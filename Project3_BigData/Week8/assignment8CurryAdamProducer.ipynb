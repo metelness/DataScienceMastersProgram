{
 "cells": [
  {
   "cell_type": "code",
   "execution_count": 2,
   "metadata": {},
   "outputs": [],
   "source": [
    "import json\n",
    "import uuid\n",
    "\n",
    "from kafka import KafkaProducer, KafkaAdminClient\n",
    "from kafka.admin.new_topic import NewTopic\n",
    "from kafka.errors import TopicAlreadyExistsError"
   ]
  },
  {
   "cell_type": "markdown",
   "metadata": {},
   "source": [
    "### Configuration Parameters \n",
    "\n",
    "> **TODO:** Change the configuration prameters to the appropriate values for your setup."
   ]
  },
  {
   "cell_type": "code",
   "execution_count": 3,
   "metadata": {},
   "outputs": [
    {
     "data": {
      "text/plain": [
       "{'bootstrap_servers': ['kafka.kafka.svc.cluster.local:9092'],\n",
       " 'first_name': 'Adam',\n",
       " 'last_name': 'Curry',\n",
       " 'client_id': 'CurryAdam',\n",
       " 'topic_prefix': 'CurryAdam'}"
      ]
     },
     "execution_count": 3,
     "metadata": {},
     "output_type": "execute_result"
    }
   ],
   "source": [
    "config = dict(\n",
    "    bootstrap_servers=['kafka.kafka.svc.cluster.local:9092'],\n",
    "    first_name='Adam',\n",
    "    last_name='Curry'\n",
    ")\n",
    "\n",
    "config['client_id'] = '{}{}'.format(\n",
    "    config['last_name'], \n",
    "    config['first_name']\n",
    ")\n",
    "config['topic_prefix'] = '{}{}'.format(\n",
    "    config['last_name'], \n",
    "    config['first_name']\n",
    ")\n",
    "\n",
    "config"
   ]
  },
  {
   "cell_type": "markdown",
   "metadata": {},
   "source": [
    "### Create Topic Utility Function\n",
    "\n",
    "The `create_kafka_topic` helps create a Kafka topic based on your configuration settings.  For instance, if your first name is *John* and your last name is *Doe*, `create_kafka_topic('locations')` will create a topic with the name `DoeJohn-locations`.  The function will not create the topic if it already exists. "
   ]
  },
  {
   "cell_type": "code",
   "execution_count": 4,
   "metadata": {},
   "outputs": [
    {
     "name": "stdout",
     "output_type": "stream",
     "text": [
      "Topic \"CurryAdam-locations\" already exists\n"
     ]
    }
   ],
   "source": [
    "def create_kafka_topic(topic_name, config=config, num_partitions=1, replication_factor=1):\n",
    "    bootstrap_servers = config['bootstrap_servers']\n",
    "    client_id = config['client_id']\n",
    "    topic_prefix = config['topic_prefix']\n",
    "    name = '{}-{}'.format(topic_prefix, topic_name)\n",
    "    \n",
    "    admin_client = KafkaAdminClient(\n",
    "        bootstrap_servers=bootstrap_servers, \n",
    "        client_id=client_id\n",
    "    )\n",
    "    \n",
    "    topic = NewTopic(\n",
    "        name=name,\n",
    "        num_partitions=num_partitions,\n",
    "        replication_factor=replication_factor\n",
    "    )\n",
    "\n",
    "    topic_list = [topic]\n",
    "    try:\n",
    "        admin_client.create_topics(new_topics=topic_list)\n",
    "        print('Created topic \"{}\"'.format(name))\n",
    "    except TopicAlreadyExistsError as e:\n",
    "        print('Topic \"{}\" already exists'.format(name))\n",
    "    \n",
    "create_kafka_topic('locations')"
   ]
  },
  {
   "cell_type": "markdown",
   "metadata": {},
   "source": [
    "### Kafka Producer\n",
    "\n",
    "The following code creates a `KafkaProducer` object which you can use to send Python objects that are serialized as JSON.\n",
    "\n",
    "**Note:** This producer serializes Python objects as JSON. This means that object must be JSON serializable.  As an example, Python `DateTime` values are not JSON serializable and must be converted to a string (e.g. ISO 8601) or a numeric value (e.g. a Unix timestamp) before being sent."
   ]
  },
  {
   "cell_type": "code",
   "execution_count": 5,
   "metadata": {},
   "outputs": [],
   "source": [
    "producer = KafkaProducer(\n",
    "  bootstrap_servers=config['bootstrap_servers'],\n",
    "  value_serializer=lambda x: json.dumps(x).encode('utf-8')\n",
    ")"
   ]
  },
  {
   "cell_type": "markdown",
   "metadata": {},
   "source": [
    "### Send Data Function\n",
    "\n",
    "The `send_data` function sends a Python object to a Kafka topic. This function adds the `topic_prefix` to the topic so `send_data('locations', data)` sends a JSON serialized message to `DoeJohn-locations`. The function also registers callbacks to let you know if the message has been sent or if an error has occured. "
   ]
  },
  {
   "cell_type": "code",
   "execution_count": 6,
   "metadata": {},
   "outputs": [],
   "source": [
    "def on_send_success(record_metadata):\n",
    "    print('Message sent:\\n    Topic: \"{}\"\\n    Partition: {}\\n    Offset: {}'.format(\n",
    "        record_metadata.topic,\n",
    "        record_metadata.partition,\n",
    "        record_metadata.offset\n",
    "    ))\n",
    "    \n",
    "def on_send_error(excp):\n",
    "    print('I am an errback', exc_info=excp)\n",
    "    # handle exception\n",
    "\n",
    "def send_data(topic, data, config=config, producer=producer, msg_key=None):\n",
    "    topic_prefix = config['topic_prefix']\n",
    "    topic_name = '{}-{}'.format(topic_prefix, topic)\n",
    "    \n",
    "    if msg_key is not None:\n",
    "        key = msg_key\n",
    "    else:\n",
    "        key = uuid.uuid4().hex\n",
    "    \n",
    "    producer.send(\n",
    "        topic_name, \n",
    "        value=data,\n",
    "        key=key.encode('utf-8')\n",
    "    ).add_callback(on_send_success).add_errback(on_send_error)"
   ]
  },
  {
   "cell_type": "code",
   "execution_count": 7,
   "metadata": {},
   "outputs": [
    {
     "name": "stdout",
     "output_type": "stream",
     "text": [
      "Message sent:\n",
      "    Topic: \"CurryAdam-locations\"\n",
      "    Partition: 0\n",
      "    Offset: 39\n"
     ]
    }
   ],
   "source": [
    "example_data = dict(\n",
    "    key1='value1',\n",
    "    key2='value2'\n",
    ")\n",
    "\n",
    "send_data('locations', example_data)"
   ]
  },
  {
   "cell_type": "code",
   "execution_count": 8,
   "metadata": {},
   "outputs": [],
   "source": [
    "import os\n",
    "from pathlib import Path\n",
    "import pandas as pd\n",
    "#https://youtu.be/IEEhzQoKtQU\n",
    "#https://github.com/sthakur2019/dsc650/blob/main/Week%238_Assignment.ipynb\n",
    "import threading\n",
    "import datetime  as dt\n",
    "import json\n",
    "#https://www.youtube.com/watch?v=HIz0pUXhM3U\n",
    "endpoint_url='https://storage.budsc.midwest-datascience.com'\n",
    "current_dir = Path(os.getcwd()).absolute()\n",
    "base_dir = '/home/jovyan/dsc650/data/processed/bdd/'\n",
    "accelerations=base_dir+'accelerations/'\n",
    "locations=base_dir+'locations/'\n",
    "time_dir=os.listdir(locations)\n",
    "\n",
    "test_dir = '/home/jovyan/dsc650/data/processed/bdd/locations//t=007.8/'"
   ]
  },
  {
   "cell_type": "code",
   "execution_count": 32,
   "metadata": {},
   "outputs": [
    {
     "name": "stdout",
     "output_type": "stream",
     "text": [
      "{98.8: 't=098.8', 49.5: 't=049.5', 117.2: 't=117.2', 4.5: 't=004.5', 17.9: 't=017.9', 81.4: 't=081.4', 56.4: 't=056.4', 30.4: 't=030.4', 109.9: 't=109.9', 106.0: 't=106.0', 0.0: 't=000.0', 88.3: 't=088.3', 14.9: 't=014.9', 10.6: 't=010.6', 94.7: 't=094.7', 26.1: 't=026.1', 33.7: 't=033.7', 77.1: 't=077.1', 121.4: 't=121.4', 66.7: 't=066.7', 7.8: 't=007.8', 113.2: 't=113.2', 63.8: 't=063.8', 60.1: 't=060.1', 91.7: 't=091.7', 37.7: 't=037.7', 21.3: 't=021.3', 102.5: 't=102.5', 45.4: 't=045.4', 41.5: 't=041.5', 85.1: 't=085.1', 52.5: 't=052.5', 70.9: 't=070.9', 73.9: 't=073.9'}\n"
     ]
    }
   ],
   "source": [
    "print(time_dict)"
   ]
  },
  {
   "cell_type": "code",
   "execution_count": 16,
   "metadata": {},
   "outputs": [],
   "source": [
    "def time_path(folder_path):\n",
    "    folder_dir = folder_path\n",
    "    time_dir = os.listdir(folder_dir)\n",
    "    time_l = list(set([float(x.split('=')[1]) for x in time_dir]))\n",
    "    time_dict = {}\n",
    "    for t in time_dir:\n",
    "        time_dict[float(t.split('=')[1])]=t\n",
    "    return time_l, time_dict, folder_dir\n",
    "\n",
    "#time_path(locations)"
   ]
  },
  {
   "cell_type": "code",
   "execution_count": 11,
   "metadata": {},
   "outputs": [],
   "source": [
    "def read_parq(pq_path):\n",
    "    df = pd.read_parquet(pq_path)\n",
    "    # convert each row to json\n",
    "    #df.apply(lambda x: print(x.to_json()), axis=1)\n",
    "    df.apply(lambda x: x.to_json(), axis=1)\n",
    "    return df.to_json()\n",
    "    #return df.to_json()\n",
    "\n",
    "df = read_parq(test_dir)"
   ]
  },
  {
   "cell_type": "code",
   "execution_count": 12,
   "metadata": {},
   "outputs": [
    {
     "data": {
      "text/plain": [
       "'{\"id\":{\"0\":\"58682c5d48cad9d9e103431d773615bf\",\"1\":\"85c61911b7fe2ced1000c33c9e932706\"},\"ride_id\":{\"0\":\"c9a2b46c9aa515b632eddc45c4868482\",\"1\":\"6760ffa3f41908695d1405b776c3e8d5\"},\"uuid\":{\"0\":\"19b9aa10588646b3bf22c9b4865a7995\",\"1\":\"dad7eae44e784b549c8c5a3aa051a8c7\"},\"timestamp\":{\"0\":1503882,\"1\":1507320},\"offset\":{\"0\":8.5250608865,\"1\":8.0779125296},\"course\":{\"0\":299.619140625,\"1\":159.609375},\"latitude\":{\"0\":40.7628694891,\"1\":40.678191064},\"longitude\":{\"0\":-73.9619473161,\"1\":-73.8181926124},\"geohash\":{\"0\":\"dr5ruuwsctwg\",\"1\":\"dr5x2jppxkqj\"},\"speed\":{\"0\":0.0,\"1\":13.1499996185},\"accuracy\":{\"0\":10.0,\"1\":10.0},\"timelapse\":{\"0\":false,\"1\":false},\"filename\":{\"0\":\"e2f795a7-6a7d-4500-b5d7-4569de996811.mov\",\"1\":\"d745b92f-aefd-467d-9121-7a71308e8d6d.mov\"}}'"
      ]
     },
     "execution_count": 12,
     "metadata": {},
     "output_type": "execute_result"
    }
   ],
   "source": [
    "df"
   ]
  },
  {
   "cell_type": "code",
   "execution_count": 17,
   "metadata": {},
   "outputs": [
    {
     "name": "stdout",
     "output_type": "stream",
     "text": [
      "Message sent:\n",
      "    Topic: \"CurryAdam-locations\"\n",
      "    Partition: 0\n",
      "    Offset: 40\n",
      "Message sent:\n",
      "    Topic: \"CurryAdam-locations\"\n",
      "    Partition: 0\n",
      "    Offset: 41\n",
      "Message sent:\n",
      "    Topic: \"CurryAdam-locations\"\n",
      "    Partition: 0\n",
      "    Offset: 42\n",
      "Message sent:\n",
      "    Topic: \"CurryAdam-locations\"\n",
      "    Partition: 0\n",
      "    Offset: 43\n",
      "Message sent:\n",
      "    Topic: \"CurryAdam-locations\"\n",
      "    Partition: 0\n",
      "    Offset: 44\n",
      "Message sent:\n",
      "    Topic: \"CurryAdam-locations\"\n",
      "    Partition: 0\n",
      "    Offset: 45\n",
      "Message sent:\n",
      "    Topic: \"CurryAdam-locations\"\n",
      "    Partition: 0\n",
      "    Offset: 46\n",
      "Message sent:\n",
      "    Topic: \"CurryAdam-locations\"\n",
      "    Partition: 0\n",
      "    Offset: 47\n",
      "Message sent:\n",
      "    Topic: \"CurryAdam-locations\"\n",
      "    Partition: 0\n",
      "    Offset: 48\n",
      "Message sent:\n",
      "    Topic: \"CurryAdam-locations\"\n",
      "    Partition: 0\n",
      "    Offset: 49\n",
      "Message sent:\n",
      "    Topic: \"CurryAdam-locations\"\n",
      "    Partition: 0\n",
      "    Offset: 50\n",
      "Message sent:\n",
      "    Topic: \"CurryAdam-locations\"\n",
      "    Partition: 0\n",
      "    Offset: 51\n",
      "Message sent:\n",
      "    Topic: \"CurryAdam-locations\"\n",
      "    Partition: 0\n",
      "    Offset: 52\n",
      "Message sent:\n",
      "    Topic: \"CurryAdam-locations\"\n",
      "    Partition: 0\n",
      "    Offset: 53\n",
      "Message sent:\n",
      "    Topic: \"CurryAdam-locations\"\n",
      "    Partition: 0\n",
      "    Offset: 54\n",
      "Message sent:\n",
      "    Topic: \"CurryAdam-locations\"\n",
      "    Partition: 0\n",
      "    Offset: 55\n",
      "Message sent:\n",
      "    Topic: \"CurryAdam-locations\"\n",
      "    Partition: 0\n",
      "    Offset: 56\n",
      "Message sent:\n",
      "    Topic: \"CurryAdam-locations\"\n",
      "    Partition: 0\n",
      "    Offset: 57\n",
      "Message sent:\n",
      "    Topic: \"CurryAdam-locations\"\n",
      "    Partition: 0\n",
      "    Offset: 58\n",
      "Message sent:\n",
      "    Topic: \"CurryAdam-locations\"\n",
      "    Partition: 0\n",
      "    Offset: 59\n",
      "Message sent:\n",
      "    Topic: \"CurryAdam-locations\"\n",
      "    Partition: 0\n",
      "    Offset: 60\n",
      "Message sent:\n",
      "    Topic: \"CurryAdam-locations\"\n",
      "    Partition: 0\n",
      "    Offset: 61\n",
      "Message sent:\n",
      "    Topic: \"CurryAdam-locations\"\n",
      "    Partition: 0\n",
      "    Offset: 62\n",
      "Message sent:\n",
      "    Topic: \"CurryAdam-locations\"\n",
      "    Partition: 0\n",
      "    Offset: 63\n",
      "Message sent:\n",
      "    Topic: \"CurryAdam-locations\"\n",
      "    Partition: 0\n",
      "    Offset: 64\n",
      "Message sent:\n",
      "    Topic: \"CurryAdam-locations\"\n",
      "    Partition: 0\n",
      "    Offset: 65\n",
      "Message sent:\n",
      "    Topic: \"CurryAdam-locations\"\n",
      "    Partition: 0\n",
      "    Offset: 66\n",
      "Message sent:\n",
      "    Topic: \"CurryAdam-locations\"\n",
      "    Partition: 0\n",
      "    Offset: 67\n",
      "Message sent:\n",
      "    Topic: \"CurryAdam-locations\"\n",
      "    Partition: 0\n",
      "    Offset: 68\n",
      "Message sent:\n",
      "    Topic: \"CurryAdam-locations\"\n",
      "    Partition: 0\n",
      "    Offset: 69\n",
      "Message sent:\n",
      "    Topic: \"CurryAdam-locations\"\n",
      "    Partition: 0\n",
      "    Offset: 70\n",
      "Message sent:\n",
      "    Topic: \"CurryAdam-locations\"\n",
      "    Partition: 0\n",
      "    Offset: 71\n",
      "Message sent:\n",
      "    Topic: \"CurryAdam-locations\"\n",
      "    Partition: 0\n",
      "    Offset: 72\n",
      "Message sent:\n",
      "    Topic: \"CurryAdam-locations\"\n",
      "    Partition: 0\n",
      "    Offset: 73\n"
     ]
    }
   ],
   "source": [
    "def send(f):\n",
    "    i = 0.0\n",
    "    time_l, time_dict, folder_dir = time_path(f)\n",
    "    event = threading.Event()\n",
    "    for t in time_l:\n",
    "        final_dir = folder_dir+'/'+time_dict[t]+'/'\n",
    "        pq = read_parq(final_dir)\n",
    "        event.wait(t-i)\n",
    "        curr_time = dt.datetime.now()\n",
    "        i=t\n",
    "        send_data('locations',pq)\n",
    "send(locations)"
   ]
  }
 ],
 "metadata": {
  "kernelspec": {
   "display_name": "Python 3",
   "language": "python",
   "name": "python3"
  },
  "language_info": {
   "codemirror_mode": {
    "name": "ipython",
    "version": 3
   },
   "file_extension": ".py",
   "mimetype": "text/x-python",
   "name": "python",
   "nbconvert_exporter": "python",
   "pygments_lexer": "ipython3",
   "version": "3.8.8"
  }
 },
 "nbformat": 4,
 "nbformat_minor": 4
}
