{
 "cells": [
  {
   "cell_type": "markdown",
   "id": "distant-olympus",
   "metadata": {},
   "source": [
    "#### Assignment 11\n",
    "Using section 8.1 in Deep Learning with Python as a guide, implement an LSTM text generator. Train the model on the Enron corpus or a text source of your choice. Save the model and generate 20 examples to the results directory of dsc650/assignments/assignment11/."
   ]
  },
  {
   "cell_type": "code",
   "execution_count": 26,
   "id": "portable-lease",
   "metadata": {},
   "outputs": [
    {
     "data": {
      "text/plain": [
       "'/home/jovyan/dsc650/dsc650/assignments/assignment11/LOTR_text.txt'"
      ]
     },
     "execution_count": 26,
     "metadata": {},
     "output_type": "execute_result"
    }
   ],
   "source": [
    "import keras\n",
    "import numpy as np\n",
    "from pathlib import Path\n",
    "import os\n",
    "current_dir = Path(os.getcwd()).absolute()\n",
    "results_dir = current_dir.joinpath('results')\n",
    "results_dir.mkdir(parents=True, exist_ok=True)\n",
    "fullPath = os.path.abspath(\"/home/jovyan/dsc650/dsc650/assignments/assignment11/\" + 'LOTR_text.txt')\n",
    "fullPath\n",
    "#https://stackoverflow.com/questions/60166043/can-tf-keras-utils-get-file-be-used-to-load-local-zip-files"
   ]
  },
  {
   "cell_type": "code",
   "execution_count": 16,
   "id": "proper-trustee",
   "metadata": {},
   "outputs": [
    {
     "name": "stdout",
     "output_type": "stream",
     "text": [
      "Downloading data from file:///home/jovyan/dsc650/dsc650/assignments/assignment11/LOTR_text.txt\n",
      "2596864/2592418 [==============================] - 0s 0us/step\n"
     ]
    }
   ],
   "source": [
    "path_LOTR = keras.utils.get_file(\n",
    "    'LOTR_text.txt','file://'+fullPath)"
   ]
  },
  {
   "cell_type": "code",
   "execution_count": 17,
   "id": "irish-subdivision",
   "metadata": {},
   "outputs": [
    {
     "name": "stdout",
     "output_type": "stream",
     "text": [
      "Corpus length: 2579785\n"
     ]
    }
   ],
   "source": [
    "text_LOTR = open(path_LOTR).read().lower()\n",
    "print('Corpus length:', len(text_LOTR))"
   ]
  },
  {
   "cell_type": "code",
   "execution_count": 19,
   "id": "regulated-diploma",
   "metadata": {},
   "outputs": [
    {
     "name": "stdout",
     "output_type": "stream",
     "text": [
      "Number of sequences: 859909\n",
      "Unique characters: 68\n",
      "Vectorization...\n"
     ]
    }
   ],
   "source": [
    "# Length of extracted character sequences\n",
    "maxlen = 60\n",
    "\n",
    "# We sample a new sequence every `step` characters\n",
    "step = 3\n",
    "\n",
    "# This holds our extracted sequences\n",
    "sentences = []\n",
    "\n",
    "# This holds the targets (the follow-up characters)\n",
    "next_chars = []\n",
    "\n",
    "for i in range(0, len(text_LOTR) - maxlen, step):\n",
    "    sentences.append(text_LOTR[i: i + maxlen])\n",
    "    next_chars.append(text_LOTR[i + maxlen])\n",
    "print('Number of sequences:', len(sentences))\n",
    "\n",
    "# List of unique characters in the corpus\n",
    "chars = sorted(list(set(text_LOTR)))\n",
    "print('Unique characters:', len(chars))\n",
    "# Dictionary mapping unique characters to their index in `chars`\n",
    "char_indices = dict((char, chars.index(char)) for char in chars)\n",
    "\n",
    "# Next, one-hot encode the characters into binary arrays.\n",
    "print('Vectorization...')\n",
    "x = np.zeros((len(sentences), maxlen, len(chars)), dtype=np.bool)\n",
    "y = np.zeros((len(sentences), len(chars)), dtype=np.bool)\n",
    "for i, sentence in enumerate(sentences):\n",
    "    for t, char in enumerate(sentence):\n",
    "        x[i, t, char_indices[char]] = 1\n",
    "    y[i, char_indices[next_chars[i]]] = 1"
   ]
  },
  {
   "cell_type": "code",
   "execution_count": 20,
   "id": "included-result",
   "metadata": {},
   "outputs": [],
   "source": [
    "from keras import layers\n",
    "\n",
    "model = keras.models.Sequential()\n",
    "model.add(layers.LSTM(128, input_shape=(maxlen, len(chars))))\n",
    "model.add(layers.Dense(len(chars), activation='softmax'))"
   ]
  },
  {
   "cell_type": "code",
   "execution_count": 21,
   "id": "valued-surge",
   "metadata": {},
   "outputs": [],
   "source": [
    "optimizer = keras.optimizers.RMSprop(lr=0.01)\n",
    "model.compile(loss='categorical_crossentropy', optimizer=optimizer)"
   ]
  },
  {
   "cell_type": "code",
   "execution_count": 22,
   "id": "critical-liver",
   "metadata": {},
   "outputs": [],
   "source": [
    "def sample(preds, temperature=1.0):\n",
    "    preds = np.asarray(preds).astype('float64')\n",
    "    preds = np.log(preds) / temperature\n",
    "    exp_preds = np.exp(preds)\n",
    "    preds = exp_preds / np.sum(exp_preds)\n",
    "    probas = np.random.multinomial(1, preds, 1)\n",
    "    return np.argmax(probas)"
   ]
  },
  {
   "cell_type": "code",
   "execution_count": 27,
   "id": "dirty-oxygen",
   "metadata": {},
   "outputs": [],
   "source": [
    "fileName = results_dir.joinpath('LSTM_LOTR.h5')\n",
    "model.save(fileName)"
   ]
  },
  {
   "cell_type": "code",
   "execution_count": 33,
   "id": "liberal-pattern",
   "metadata": {},
   "outputs": [
    {
     "name": "stdout",
     "output_type": "stream",
     "text": [
      "epoch 1\n",
      "6719/6719 [==============================] - 854s 127ms/step - loss: 1.3393\n",
      "--- Generating with seed: \"ce do you come? and whither do you go? what is your business\"\n",
      "------ temperature: 0.2\n",
      "ce do you come? and whither do you go? what is your business and the stream, and there was a shadow of the day of the lord of the shire of the lord of the short than the mountains of the stone that was the house of the company was beast by the shire of the stone of the shadow of the shadow of the shire of the stone of the road and the stones. the stream had the stone of the stranger of the darkness and strength the strength and fell and stretched and strea------ temperature: 0.5\n",
      "s and strength the strength and fell and stretched and stream was was the store and stone could do with a long break and walking on the ford that it went under but rode to deats. so i got a great houses of nights. and the long was that hope to perhaps and grows and very a men was not all singing, and so not sam from the lords of the stranger of the desert words of stranger that was any turn the shadow of the mallow, so they went his head and long before wh------ temperature: 1.0\n",
      "adow of the mallow, so they went his head and long before what was truetthund moning the truck of the other of crowntorn. 'his in the mountyo set enemy,' he said. 'what wish i must do not their day in pressed. they let's to his oxn' saoking there on theirtresiln. but they lift than the hill the great friendless so' said nider. 'he could not thicked under that home! little! frond. you will dill like lo. so i seen merribly with monda,' he said, 'mully hope i------ temperature: 1.2\n",
      "e lo. so i seen merribly with monda,' he said, 'mully hope is to rellin.'\n",
      "     for while rewarnith whom as far battle becauss mode that was when them _dimbs nock desernt. butthinlless in them, but was sméawalniwsang was; and by alond unforthird! siakye a devinger warm and usef, as bebat du!'u must see-wrals; but angr!' he sméaghing it. 'you hopen'm them worresh lan could ave night, foarmers langin deseas. whisatihurvese! him into trees on lovright.'\n",
      "     b\n",
      "epoch 2\n",
      "6719/6719 [==============================] - 852s 127ms/step - loss: 1.3215\n",
      "--- Generating with seed: \" was alive,' said gimli. 'and he had the use of his wits, an\"\n",
      "------ temperature: 0.2\n",
      " was alive,' said gimli. 'and he had the use of his wits, and the shore of the trees and the land of the shadow of the darkness of the fire and the east of the shadow of the fire from the shadow of the shadow of the shadow of the trees and strider and the shadow of the shadow of the darkness of the trees and the shadow of the things of the walls of the shadow of the shadow of the morning of the land, and the shadow of the river was the shadow of the words ------ temperature: 0.5\n",
      "nd, and the shadow of the river was the shadow of the words was himself that they had not never had come to the shire they had springing as if the hills he was a black tongue of the word stood on the shadow of mordor; but they were for a great open and plain. and they were said some east and found them, as he falled away to climbing in the found back of a great east.\n",
      "     'he would be destrobled them. they thound them the ring was the commands and a great ------ temperature: 1.0\n",
      "hem. they thound them the ring was the commands and a great borge's great crown, wears aragorn softly they were the ents\n",
      "          the only before of you upon him!'\n",
      "     they had heard the halmbers, sat at ondered and ank down him in si, he will. of running pepesh your corning, and is at laptaby softly. my biven was me. i -eddening our liewly long broody here would soft a river, and and never gandalf a hobbits dwell wizard. sam meanted, if the midst of the------ temperature: 1.2\n",
      "alf a hobbits dwell wizard. sam meanted, if the midst of the way rose and some tdol, if here, adway and marped in a edor roomed, as if fork, morning.'\n",
      "     'cools?'\n",
      "     he left. evoun he drew the treesu made, fhracred wanow, bow they cuy ower.\n",
      "     the maunts and lucks puar orivnent, climbing were one of a clear lowd.\n",
      "     ' in the morning tom, ahatered nazbran west. woes the, and . unfolds' foreveanes some answered.  only softhing-peventh again; a look l\n",
      "epoch 3\n",
      "6719/6719 [==============================] - 856s 127ms/step - loss: 1.3111\n",
      "--- Generating with seed: \"iff of cirith gorgor. the hollow in which they had taken ref\"\n",
      "------ temperature: 0.2\n",
      "iff of cirith gorgor. the hollow in which they had taken refurned and a stone that he stood to the stone of the trees and the cold and stone that was not never look to the mountains of the lands of the river and the stars of the stone of the first that was strider. the lord was a stone of the eyes, and the stone of the first and the stone of the stone of the short of the stone of the shadows of the mountains of the lords of the stone of the river, and the ------ temperature: 0.5\n",
      "e mountains of the lords of the stone of the river, and the great tower of the silver and the proir of the bridge, and it is a moment. it is not a company to see the captive drink of the legs and sam was stone now. he had all the sam of the cool the will they were alls all the first shall away in the road. we can't see the mountains, and we must take from the rich for the end of my siwer-all of his many to be stone the point and the first was for the stand------ temperature: 1.0\n",
      "s many to be stone the point and the first was for the stand parts of wind, glittered trove clase on the stearthous altondil, ip with a while over the black shadow, and it is great his nice trees. i eats you, i'ght as it is stied they believe the chamce in a frock? he egcours; and to be thoned easuals of repard?'\n",
      "     'he had said; but my eyes let the peril kins, and their howe, and in the gsquer is black as captain, long green _nemil_ that the rim well a ------ temperature: 1.2\n",
      "is black as captain, long green _nemil_ that the rim well a lad hhoil. as believes looks into must intwords! rhrow it yesten my let, little swoind on some lins a mearful obyow refus,s! too sup! youary will recike that isearer will fear? we mug of was from the world!'\n",
      "\n",
      "     "
     ]
    },
    {
     "name": "stderr",
     "output_type": "stream",
     "text": [
      "<ipython-input-22-66c6eecb696d>:3: RuntimeWarning: divide by zero encountered in log\n",
      "  preds = np.log(preds) / temperature\n"
     ]
    },
    {
     "name": "stdout",
     "output_type": "stream",
     "text": [
      "      comies as on the o! he ipsetlels he lempted_ for!'\n",
      "     'a springs ip, if you, if ! i take it in elberminarr is scurst about sleep.'\n",
      "     `what moundingitarms, or pay, and never? y\n",
      "epoch 4\n",
      "6719/6719 [==============================] - 859s 128ms/step - loss: 1.3043\n",
      "--- Generating with seed: \"is entmoot?' pippin ventured to ask.\n",
      "     'hoo, eh? entmoot?\"\n",
      "------ temperature: 0.2\n",
      "is entmoot?' pippin ventured to ask.\n",
      "     'hoo, eh? entmoot?' said gandalf. `i should have the thing they were so that i do not come and the stones of the for the stones of the world of the stones of the lower of the stones of the stones of the grey stream and stream and stream and looked and streng\n",
      "     'we should be seen the stream of the woods of the grey of the land of the stone of the land of the stones of the stones of the world of the way they stood------ temperature: 0.5\n",
      " the stones of the stones of the world of the way they stood behind his shadows was and desperate of upon the broken and stream and stretched a bollowing of his to the grey was a one will be down of the tower-faces with the hill and the looked for a moving of his bound of the darkness of the calling. 'or you can see the stand that he had got no land that we should see the hill of the in the wars of the boding of the woods of the new of the heavilious of th------ temperature: 1.0\n",
      "f the boding of the woods of the new of the heavilious of the lords and shouldery now. o'dwer the everance green wind hard go, i touched in the river. and so these bringer from greets under sourkk and half of their upmounce, and in love even ause pippin prolied merher from the soila south, and with as my look back up anever clutter afor see heewn and merry the hove. then he will forgother know, and not we set all them us. you shall she endering. but you kn------ temperature: 1.2\n",
      "d not we set all them us. you shall she endering. but you know them. and as 'wherty, and the o!' sam stood bustreash's sun now here from nighty. 'you west for shakel-min\n",
      "            his vistace was a lulvner; but it seemed at settic grews: iobbide clearly rase no fear and the rainted runersme down anrowecting into the worth elven-very arms, but hoverious favosieshed to right handred to his close of slowly ha lupded up as ; but it climbed picchess sleep aft\n",
      "epoch 5\n",
      "6719/6719 [==============================] - 850s 126ms/step - loss: 1.2997\n",
      "--- Generating with seed: \"oldiers of gondor, and they were rangers of ithilien; for th\"\n",
      "------ temperature: 0.2\n",
      "oldiers of gondor, and they were rangers of ithilien; for the store was stranged the stone of the river and stranger the lord of the strangers of the hobbits were the stone of the far and stood the stone of the walls of the stone of the wind of the hobbits and the river and the stone of the lord of the water of the council. the stone was strangered and stood and strider and stood and the company and he was strong and stood and stood and stranger and stride------ temperature: 0.5\n",
      "nd he was strong and stood and stood and stranger and strider, like the ford of the river, and the old fire long and trees of night that it could learn well the man of the morning that had he had so the stream that had teartly started the river the light was sam, but the path stood and a lurd of the old face in the river and the right while the branches are the from the lords, the trees and the hobbits saw it, and the dark came of the lad, and and the stor------ temperature: 1.0\n",
      "bbits saw it, and the dark came of the lad, and and the storr down away about him, or began the sherenan his great guess that but a mid on son it looked to chie,\n",
      "           i think the sun, be singing to me for rider and diaar ents.'\n",
      "     'he has not have heled up, and stay bay, but not doing, and the grey oth like grew chair with river against for the might upder a land, as youngrersy hobbits ruid and looked now close and brow again, places, spirited, as ------ temperature: 1.2\n",
      "d and looked now close and brow again, places, spirited, as we have come into man comes of spires, ever who wid died. and _but gentle me it, untoag. but we _leve, she are or itive and talks. but ordly would notning, where is wet.'\n",
      "     'goness is ridged, or to the king,' said legola_. 'we will move of ravy, because we obgouc, if counce arrow it-yob_, know?'\n",
      "     'no arrabbler a's sereag in! i thought we should yog! not you of steward will up? i desir it. f\n",
      "epoch 6\n",
      "6719/6719 [==============================] - 823s 123ms/step - loss: 1.2974\n",
      "--- Generating with seed: \"ver under their feet. 'i think we are in for trouble anyhow,\"\n",
      "------ temperature: 0.2\n",
      "ver under their feet. 'i think we are in for trouble anyhow, and there is a black long and walking and was already strong and was to the face of the black side of the world. the face was a long and the walls of the west and was long and strain and seemed to the back of the borders of the houses of the black side of the falling of the way, and the warment was still and the wall of the warming to the wall of the country. the black shadow was and the warment ------ temperature: 0.5\n",
      "e wall of the country. the black shadow was and the warment and behind his heart for the truths between foom. and he could say it on the falling on the gate of the descracting land. he could nott the cold forest beside them, and something that i will be not defeat to the grey to grown on the road. the north and behind on a far as the way, and there was a most and saw which i will be sent it.'\n",
      "     'he can make the way of the flowny to the other decist, and------ temperature: 1.0\n",
      " 'he can make the way of the flowny to the other decist, and the camp until it'ths lust right in a mose yours.\n",
      "     and and behold! it could notk the down.'\n",
      "     'wolk the dead's told. i wonder you tell!' said the book. 'would you wisiod up them in this memory to couldn't over both belod?'\n",
      "     'thes he was deepered above you felt otherwarwy at used my pather!' groves were accorted to left me. there was longer isafling to dare i now genting, and forest!' h------ temperature: 1.2\n",
      "re was longer isafling to dare i now genting, and forest!' he many and riding thkiny a hongings fhorg, and tiny sounting and dwarfs, stoodiry! ' desperithing again,ity sadined, and refart on the wars in the trembled rose earlt in thyhousityy's tail. though shatcordf: the heart rused began knowed on the watch; but the comnesd marvey clying as how forth. almost so shele! thundeereur.'\n",
      "     w crept again.\n",
      "\n",
      "           one pribous. he spoke walkingry belowen's \n",
      "epoch 7\n",
      "6719/6719 [==============================] - 823s 122ms/step - loss: 1.5374\n",
      "--- Generating with seed: \"after, and none of my own folk were to spare; and then one t\"\n",
      "------ temperature: 0.2\n",
      "after, and none of my own folk were to spare; and then one thor bet, sthat hims earles : 'the grounl th óiden sed, and strang an send thûir edding lested thkahe!\n",
      "    hen aórie and s stood theú`toftk thcoptarfeithen thtrerijoutineas owe witä-gadde– and the ground, and stretct hóki thearëurke (' sam were slilled thâ\n",
      "                                                                                                                                                ------ temperature: 0.5\n",
      "                                                                                                                                                                                                                                                                                  i sat up, and striched thâsmodis to\n",
      "(o gate at ohiderin whey keä-birdt ahead mignld wóanéet.úsigh an a'd he seen theä see in ther you stë him witgaed. a trum onedtiol seed t.?cfopstery u------ temperature: 1.0\n",
      "her you stë him witgaed. a trum onedtiol seed t.?cfopstery us, an ancust. as my lable of to:ëe had man. slid theart  therw i no wough `yor spad. 'for, i's the rond, and me no lords and meed, as frond su!' he crouerton. 'ig down tó_ been he sawe thúsó as. it reddy (slowing onf,\n",
      "            he kneel him up and mobiúd axuhnengs one ''hh is(' 'not day in :éuxraures and shadowled ahât hindeh. the desees an s. farag thr)xindile in his notc ? as would need on a t------ temperature: 1.2\n",
      "s an s. farag thr)xindile in his notc ? as would need on a tho `neh, and no support `ahdaw(x.,!, the cost. the spepagul. the misty rhyste seen foe  shim, the monted itjoéjup  ! sod andeinë, as singl in man uesing féag awnúrl is feard it locad, with to  ho whe s(sx_re camse \n",
      "tda we nrater, frolde to\n",
      "ndulä: 'nay, loopt (naom \n",
      "           some bel a spell an an who) him ' shrjowwnâ wûwey. it (saircowed, looken wi;–' sweell theaén`s lavëb up kne herble lea liad\n",
      "epoch 8\n",
      "6719/6719 [==============================] - 860s 128ms/step - loss: 6.4667\n",
      "--- Generating with seed: \" him till now, save anborn here, once at dusk yesterevening.\"\n",
      "------ temperature: 0.2\n",
      " him till now, save anborn here, once at dusk yesterevening.  t th ga  fonde th h  he h 'a whl t w  thh td  the hen o hev w bge asegen be   the w t t t an  h the  h s  th e h th the  ean a te tehw   hoe th     the h an weu  i the' th w  anot   c  thv\n",
      "\n",
      "d  h  thb    the  t the the th  ane`  th' th w ihe    noth whe th ah hem  he than w  'th th w the h  thes ge wdhe  h tce  he\n",
      "   hh the  in th wn  he fh the       of axte he an the\n",
      "\n",
      "   t and he h he t g th  tk------ temperature: 0.5\n",
      " fh the       of axte he an the\n",
      "\n",
      "   t and he h he t g th  tki wof hs th the end f ano  an so s   ry th  he  fo  rqbas tbud  twhitee he  t im   e s w  cam oand belo thd  asoda n. ge anth or to wd ' hn t an aithe wilo hate t se tfa cra  en b eawwc, he boursg we tjhet fhe  w téihe g  oud  h ththg  rfe ona w  s  an ne ted wo l axa   ran  h  the het thd tn af the wntad t an tb ayed an ind      tasd fgegd wothaver tc bóed t  ouo in a an ha wrb f go nh me heanhe ------ temperature: 1.0\n",
      "gd wothaver tc bóed t  ouo in a an ha wrb f go nh me heanhe oyad ilh vei ciffete  cnandiyng rad lip  hogd ihof y  t tokoream,   d t hinu oy'togo atth  y arud ise yh needrehf taleef b ninm be welg heon f mt h hevo wrnde yeediair wadke , anr fle h he tt th i a mo t!nqti thoom b hatttis sewre noub  owthtg hatahtr  se hhha dtqe mei caed oe u hmpdsod; ' teo h, atl nglh htkhen  ne lt a ttho h  lum etq s osrgy, as in nile,t penesit   ttrtngly t thhgae. uay seam, ------ temperature: 1.2\n",
      " osrgy, as in nile,t penesit   ttrtngly t thhgae. uay seam, fprg! y,utm ptotdusu llsc pougg,u a hteso ond  t pos tg tieunycim tges..p in th fdyee i  e main  dl hed iocdsyrr.h,eruy  end 'hatn olih pathi  thenendce hy mur fenv f fhrie hsey; v m ham l cldsatayy  uh edes, hr  rinlvret f oa   alomeoemaue , ,h  faeis c i me, utph st sey s. pyiaea,ihw aadwe,o,n fro nl dhd doy  erdotmaes afrepa tis. s tlpun pwenir uanifworjat whm su z ien chle hanrdteied fclhep  s\n",
      "epoch 9\n",
      "6719/6719 [==============================] - 833s 124ms/step - loss: 3.5002\n",
      "--- Generating with seed: \". but he bowing low to the fallen, bade them farewell, and m\"\n",
      "------ temperature: 0.2\n",
      ". but he bowing low to the fallen, bade them farewell, and mhe w b an hi  hede he a   than a  ho w     a  he 'e th w wee   on i  he oa th a sh boo a the  on t  one \n",
      "    the he he tg nor    ain  an  an h                       he th  and  a a`n  h ofo hth dh:  an te  t     th  a   the wnb  t e  h noom  a heth  the han dan ha hand a f ther  ae  e     the he he re hed e  ane so  a so ne n the    an tta thteh   s the the s w h   he't t the hen  hedb  ihe  an  t------ temperature: 0.5\n",
      "a thteh   s the the s w h   he't t the hen  hedb  ihe  an  trandhe the cnd i ba  s he traa the whr    oi h  ahehe  ch\n",
      "le wdadn h  mat in bba an alng t   asdl whin and  his nr wan ad le nhavteyr.\n",
      "anehep e shant anann hdy thee  tad.h hianw  oond e   t flo la e wasrt  h s t be aoh f'at  rng\n",
      "  wea w anh a ha he ho soze   the le ca do athth sothe s the hthenr. rnd  rend isam dn thte tare  ohan tho whhe h  aa ot`nt he ro ta sind  whone  he w wehe ht ne wnd f nhe------ temperature: 1.0\n",
      " h  aa ot`nt he ro ta sind  whone  he w wehe ht ne wnd f nheo oi,lo eom t shorha  dtn rhsane o; 'ainine ndmw wprobnn br fegncy cmoo we  en ane    l in ' dae hadmhorecks dsern, s!en ct  hde ye,  ladnon sd  hamiwgth,elykep s.hhngadno ohevi, spdry edetd dr  te,df hi ade hfayde te mon hhnlt  ccrdn.'di s .ot eewdf.h ne a myodedherr y y o  ayonnut wk asay bingw.  rrurhlakl w\n",
      "yen i wnitbtharoa.e'th.dtsa mrg\n",
      " a teu.ea g a tdoyk a udwldhny teandeo os\n",
      " eto de. sddrr------ temperature: 1.2\n",
      "mrg\n",
      " a teu.ea g a tdoyk a udwldhny teandeo os\n",
      " eto de. sddrrn 'ginerth awai   forn h  rwg douaad ofer o irnigc tswn wrpsso.ue w t o ry ni k chrlon comnhbhad eugk  hd  finamrlooldeet  wlriwhvonr.umeser  wal er  gneae flye gn  gecósrak oa.m`seheusgnroup  ofwt powa w chn io nauean nfushoydnlr geonnn faot'rr skcblh ydel inh ondny'ilo mby   dhhe oayhs ugsnd..e w pt' lueltoreyesdeereyordyog rh afddor?y  rnedn w' aoilec.rnyyh,  rlu  r mr. tedtt roer. wfepdacd at \n",
      "epoch 10\n",
      "6719/6719 [==============================] - 827s 123ms/step - loss: nan\n",
      "--- Generating with seed: \"sunset. from the hills in the eastfold of your realm i saw i\"\n",
      "------ temperature: 0.2\n",
      "sunset. from the hills in the eastfold of your realm i saw i"
     ]
    },
    {
     "ename": "ValueError",
     "evalue": "pvals < 0, pvals > 1 or pvals contains NaNs",
     "output_type": "error",
     "traceback": [
      "\u001b[0;31m---------------------------------------------------------------------------\u001b[0m",
      "\u001b[0;31mValueError\u001b[0m                                Traceback (most recent call last)",
      "\u001b[0;32m<ipython-input-33-8365e110aa85>\u001b[0m in \u001b[0;36m<module>\u001b[0;34m\u001b[0m\n\u001b[1;32m     25\u001b[0m \u001b[0;34m\u001b[0m\u001b[0m\n\u001b[1;32m     26\u001b[0m             \u001b[0mpreds\u001b[0m \u001b[0;34m=\u001b[0m \u001b[0mmodel\u001b[0m\u001b[0;34m.\u001b[0m\u001b[0mpredict\u001b[0m\u001b[0;34m(\u001b[0m\u001b[0msampled\u001b[0m\u001b[0;34m,\u001b[0m \u001b[0mverbose\u001b[0m\u001b[0;34m=\u001b[0m\u001b[0;36m0\u001b[0m\u001b[0;34m)\u001b[0m\u001b[0;34m[\u001b[0m\u001b[0;36m0\u001b[0m\u001b[0;34m]\u001b[0m\u001b[0;34m\u001b[0m\u001b[0;34m\u001b[0m\u001b[0m\n\u001b[0;32m---> 27\u001b[0;31m             \u001b[0mnext_index\u001b[0m \u001b[0;34m=\u001b[0m \u001b[0msample\u001b[0m\u001b[0;34m(\u001b[0m\u001b[0mpreds\u001b[0m\u001b[0;34m,\u001b[0m \u001b[0mtemperature\u001b[0m\u001b[0;34m)\u001b[0m\u001b[0;34m\u001b[0m\u001b[0;34m\u001b[0m\u001b[0m\n\u001b[0m\u001b[1;32m     28\u001b[0m             \u001b[0mnext_char\u001b[0m \u001b[0;34m=\u001b[0m \u001b[0mchars\u001b[0m\u001b[0;34m[\u001b[0m\u001b[0mnext_index\u001b[0m\u001b[0;34m]\u001b[0m\u001b[0;34m\u001b[0m\u001b[0;34m\u001b[0m\u001b[0m\n\u001b[1;32m     29\u001b[0m \u001b[0;34m\u001b[0m\u001b[0m\n",
      "\u001b[0;32m<ipython-input-22-66c6eecb696d>\u001b[0m in \u001b[0;36msample\u001b[0;34m(preds, temperature)\u001b[0m\n\u001b[1;32m      4\u001b[0m     \u001b[0mexp_preds\u001b[0m \u001b[0;34m=\u001b[0m \u001b[0mnp\u001b[0m\u001b[0;34m.\u001b[0m\u001b[0mexp\u001b[0m\u001b[0;34m(\u001b[0m\u001b[0mpreds\u001b[0m\u001b[0;34m)\u001b[0m\u001b[0;34m\u001b[0m\u001b[0;34m\u001b[0m\u001b[0m\n\u001b[1;32m      5\u001b[0m     \u001b[0mpreds\u001b[0m \u001b[0;34m=\u001b[0m \u001b[0mexp_preds\u001b[0m \u001b[0;34m/\u001b[0m \u001b[0mnp\u001b[0m\u001b[0;34m.\u001b[0m\u001b[0msum\u001b[0m\u001b[0;34m(\u001b[0m\u001b[0mexp_preds\u001b[0m\u001b[0;34m)\u001b[0m\u001b[0;34m\u001b[0m\u001b[0;34m\u001b[0m\u001b[0m\n\u001b[0;32m----> 6\u001b[0;31m     \u001b[0mprobas\u001b[0m \u001b[0;34m=\u001b[0m \u001b[0mnp\u001b[0m\u001b[0;34m.\u001b[0m\u001b[0mrandom\u001b[0m\u001b[0;34m.\u001b[0m\u001b[0mmultinomial\u001b[0m\u001b[0;34m(\u001b[0m\u001b[0;36m1\u001b[0m\u001b[0;34m,\u001b[0m \u001b[0mpreds\u001b[0m\u001b[0;34m,\u001b[0m \u001b[0;36m1\u001b[0m\u001b[0;34m)\u001b[0m\u001b[0;34m\u001b[0m\u001b[0;34m\u001b[0m\u001b[0m\n\u001b[0m\u001b[1;32m      7\u001b[0m     \u001b[0;32mreturn\u001b[0m \u001b[0mnp\u001b[0m\u001b[0;34m.\u001b[0m\u001b[0margmax\u001b[0m\u001b[0;34m(\u001b[0m\u001b[0mprobas\u001b[0m\u001b[0;34m)\u001b[0m\u001b[0;34m\u001b[0m\u001b[0;34m\u001b[0m\u001b[0m\n",
      "\u001b[0;32mmtrand.pyx\u001b[0m in \u001b[0;36mnumpy.random.mtrand.RandomState.multinomial\u001b[0;34m()\u001b[0m\n",
      "\u001b[0;32m_common.pyx\u001b[0m in \u001b[0;36mnumpy.random._common.check_array_constraint\u001b[0;34m()\u001b[0m\n",
      "\u001b[0;31mValueError\u001b[0m: pvals < 0, pvals > 1 or pvals contains NaNs"
     ]
    }
   ],
   "source": [
    "import random\n",
    "import sys\n",
    "\n",
    "for epoch in range(1, 60):\n",
    "    print('epoch', epoch)\n",
    "    # Fit the model for 1 epoch on the available training data\n",
    "    model.fit(x, y,\n",
    "              batch_size=128,\n",
    "              epochs=1)\n",
    "\n",
    "    # Select a text seed at random\n",
    "    start_index = random.randint(0, len(text_LOTR) - maxlen - 1)\n",
    "    generated_text = text_LOTR[start_index: start_index + maxlen]\n",
    "    print('--- Generating with seed: \"' + generated_text + '\"')\n",
    "\n",
    "    for temperature in [0.2, 0.5, 1.0, 1.2]:\n",
    "        print('------ temperature:', temperature)\n",
    "        sys.stdout.write(generated_text)\n",
    "\n",
    "        # We generate 400 characters\n",
    "        for i in range(400):\n",
    "            sampled = np.zeros((1, maxlen, len(chars)))\n",
    "            for t, char in enumerate(generated_text):\n",
    "                sampled[0, t, char_indices[char]] = 1.\n",
    "\n",
    "            preds = model.predict(sampled, verbose=0)[0]\n",
    "            next_index = sample(preds, temperature)\n",
    "            next_char = chars[next_index]\n",
    "\n",
    "            generated_text += next_char\n",
    "            generated_text = generated_text[1:]\n",
    "\n",
    "            sys.stdout.write(next_char)\n",
    "            sys.stdout.flush()\n",
    "    # from teams convo\n",
    "    example_filename = 'LSTM_Example-Epoch_' + str(epoch) + '_Temp_' + str(temperature) + '.txt'\n",
    "    with open(results_dir.joinpath(example_filename), 'w') as file:\n",
    "        file.writelines(generated_text)\n",
    "        \n",
    "        print()"
   ]
  },
  {
   "cell_type": "code",
   "execution_count": 32,
   "id": "defensive-school",
   "metadata": {},
   "outputs": [],
   "source": []
  }
 ],
 "metadata": {
  "kernelspec": {
   "display_name": "Python 3",
   "language": "python",
   "name": "python3"
  },
  "language_info": {
   "codemirror_mode": {
    "name": "ipython",
    "version": 3
   },
   "file_extension": ".py",
   "mimetype": "text/x-python",
   "name": "python",
   "nbconvert_exporter": "python",
   "pygments_lexer": "ipython3",
   "version": "3.8.8"
  }
 },
 "nbformat": 4,
 "nbformat_minor": 5
}
